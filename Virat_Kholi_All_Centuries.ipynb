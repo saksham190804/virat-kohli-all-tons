{
  "metadata": {
    "kernelspec": {
      "language": "python",
      "display_name": "Python 3",
      "name": "python3"
    },
    "language_info": {
      "name": "python",
      "version": "3.10.13",
      "mimetype": "text/x-python",
      "codemirror_mode": {
        "name": "ipython",
        "version": 3
      },
      "pygments_lexer": "ipython3",
      "nbconvert_exporter": "python",
      "file_extension": ".py"
    },
    "kaggle": {
      "accelerator": "none",
      "dataSources": [
        {
          "sourceId": 8429597,
          "sourceType": "datasetVersion",
          "datasetId": 5019848
        }
      ],
      "dockerImageVersionId": 30698,
      "isInternetEnabled": true,
      "language": "python",
      "sourceType": "notebook",
      "isGpuEnabled": false
    },
    "colab": {
      "provenance": []
    }
  },
  "nbformat_minor": 0,
  "nbformat": 4,
  "cells": [
    {
      "cell_type": "code",
      "source": [
        "import numpy as np\n",
        "import pandas as pd\n",
        "\n",
        "import numpy as np\n",
        "import pandas as pd\n",
        "import seaborn as sns\n",
        "from matplotlib import pyplot as plt"
      ],
      "metadata": {
        "_uuid": "8f2839f25d086af736a60e9eeb907d3b93b6e0e5",
        "_cell_guid": "b1076dfc-b9ad-4769-8c92-a6c4dae69d19",
        "execution": {
          "iopub.status.busy": "2024-05-16T16:42:31.383575Z",
          "iopub.execute_input": "2024-05-16T16:42:31.384209Z",
          "iopub.status.idle": "2024-05-16T16:42:32.579799Z",
          "shell.execute_reply.started": "2024-05-16T16:42:31.384176Z",
          "shell.execute_reply": "2024-05-16T16:42:32.578397Z"
        },
        "trusted": true,
        "id": "U_0tkX0vVLU-"
      },
      "execution_count": 1,
      "outputs": []
    },
    {
      "cell_type": "code",
      "source": [
        "df = pd.read_csv(\"/content/Virat_Kohli_Centuries.csv\")"
      ],
      "metadata": {
        "execution": {
          "iopub.status.busy": "2024-05-16T16:47:20.150594Z",
          "iopub.execute_input": "2024-05-16T16:47:20.150983Z",
          "iopub.status.idle": "2024-05-16T16:47:20.167157Z",
          "shell.execute_reply.started": "2024-05-16T16:47:20.150955Z",
          "shell.execute_reply": "2024-05-16T16:47:20.166189Z"
        },
        "trusted": true,
        "id": "eawfiRFdVLVB"
      },
      "execution_count": 2,
      "outputs": []
    },
    {
      "cell_type": "code",
      "source": [
        "df.head()"
      ],
      "metadata": {
        "execution": {
          "iopub.status.busy": "2024-05-16T16:48:17.218043Z",
          "iopub.execute_input": "2024-05-16T16:48:17.218482Z",
          "iopub.status.idle": "2024-05-16T16:48:17.237189Z",
          "shell.execute_reply.started": "2024-05-16T16:48:17.218448Z",
          "shell.execute_reply": "2024-05-16T16:48:17.236038Z"
        },
        "trusted": true,
        "id": "kqxx7hDfVLVB",
        "colab": {
          "base_uri": "https://localhost:8080/",
          "height": 348
        },
        "outputId": "7629abff-7491-454d-e64d-543ebd8130fa"
      },
      "execution_count": 3,
      "outputs": [
        {
          "output_type": "execute_result",
          "data": {
            "text/plain": [
              "   S. No.        Date  Score  Strike Rate Type of Match  Position  Innings  \\\n",
              "0       1  24-12-2009    107        93.85           ODI         4        2   \n",
              "1       2  11-01-2010    102       107.37           ODI         3        2   \n",
              "2       3  20-10-2010    118        97.52           ODI         3        2   \n",
              "3       4  28-11-2010    105       100.96           ODI         3        1   \n",
              "4       5  19-02-2011    100       120.48           ODI         4        1   \n",
              "\n",
              "  Dismissed Man of the Match Captain      Against  \\\n",
              "0       Yes               No      No    Sri Lanka   \n",
              "1        No              Yes      No   Bangladesh   \n",
              "2       Yes              Yes      No    Australia   \n",
              "3       Yes              Yes      No  New Zealand   \n",
              "4        No               No      No   Bangladesh   \n",
              "\n",
              "                              Venue H/A/N Result  \n",
              "0             Eden Gardens, Kolkata  Home    Won  \n",
              "1      Sher-e-Bangla Stadium, Dhaka  Away    Won  \n",
              "2  APCA-VDCA Stadium, Visakhapatnam  Home    Won  \n",
              "3           Nehru Stadium, Guwahati  Home    Won  \n",
              "4      Sher-e-Bangla Stadium, Dhaka  Away    Won  "
            ],
            "text/html": [
              "\n",
              "  <div id=\"df-3accf4a7-da53-4fe5-b7e9-4c99ffaac09f\" class=\"colab-df-container\">\n",
              "    <div>\n",
              "<style scoped>\n",
              "    .dataframe tbody tr th:only-of-type {\n",
              "        vertical-align: middle;\n",
              "    }\n",
              "\n",
              "    .dataframe tbody tr th {\n",
              "        vertical-align: top;\n",
              "    }\n",
              "\n",
              "    .dataframe thead th {\n",
              "        text-align: right;\n",
              "    }\n",
              "</style>\n",
              "<table border=\"1\" class=\"dataframe\">\n",
              "  <thead>\n",
              "    <tr style=\"text-align: right;\">\n",
              "      <th></th>\n",
              "      <th>S. No.</th>\n",
              "      <th>Date</th>\n",
              "      <th>Score</th>\n",
              "      <th>Strike Rate</th>\n",
              "      <th>Type of Match</th>\n",
              "      <th>Position</th>\n",
              "      <th>Innings</th>\n",
              "      <th>Dismissed</th>\n",
              "      <th>Man of the Match</th>\n",
              "      <th>Captain</th>\n",
              "      <th>Against</th>\n",
              "      <th>Venue</th>\n",
              "      <th>H/A/N</th>\n",
              "      <th>Result</th>\n",
              "    </tr>\n",
              "  </thead>\n",
              "  <tbody>\n",
              "    <tr>\n",
              "      <th>0</th>\n",
              "      <td>1</td>\n",
              "      <td>24-12-2009</td>\n",
              "      <td>107</td>\n",
              "      <td>93.85</td>\n",
              "      <td>ODI</td>\n",
              "      <td>4</td>\n",
              "      <td>2</td>\n",
              "      <td>Yes</td>\n",
              "      <td>No</td>\n",
              "      <td>No</td>\n",
              "      <td>Sri Lanka</td>\n",
              "      <td>Eden Gardens, Kolkata</td>\n",
              "      <td>Home</td>\n",
              "      <td>Won</td>\n",
              "    </tr>\n",
              "    <tr>\n",
              "      <th>1</th>\n",
              "      <td>2</td>\n",
              "      <td>11-01-2010</td>\n",
              "      <td>102</td>\n",
              "      <td>107.37</td>\n",
              "      <td>ODI</td>\n",
              "      <td>3</td>\n",
              "      <td>2</td>\n",
              "      <td>No</td>\n",
              "      <td>Yes</td>\n",
              "      <td>No</td>\n",
              "      <td>Bangladesh</td>\n",
              "      <td>Sher-e-Bangla Stadium, Dhaka</td>\n",
              "      <td>Away</td>\n",
              "      <td>Won</td>\n",
              "    </tr>\n",
              "    <tr>\n",
              "      <th>2</th>\n",
              "      <td>3</td>\n",
              "      <td>20-10-2010</td>\n",
              "      <td>118</td>\n",
              "      <td>97.52</td>\n",
              "      <td>ODI</td>\n",
              "      <td>3</td>\n",
              "      <td>2</td>\n",
              "      <td>Yes</td>\n",
              "      <td>Yes</td>\n",
              "      <td>No</td>\n",
              "      <td>Australia</td>\n",
              "      <td>APCA-VDCA Stadium, Visakhapatnam</td>\n",
              "      <td>Home</td>\n",
              "      <td>Won</td>\n",
              "    </tr>\n",
              "    <tr>\n",
              "      <th>3</th>\n",
              "      <td>4</td>\n",
              "      <td>28-11-2010</td>\n",
              "      <td>105</td>\n",
              "      <td>100.96</td>\n",
              "      <td>ODI</td>\n",
              "      <td>3</td>\n",
              "      <td>1</td>\n",
              "      <td>Yes</td>\n",
              "      <td>Yes</td>\n",
              "      <td>No</td>\n",
              "      <td>New Zealand</td>\n",
              "      <td>Nehru Stadium, Guwahati</td>\n",
              "      <td>Home</td>\n",
              "      <td>Won</td>\n",
              "    </tr>\n",
              "    <tr>\n",
              "      <th>4</th>\n",
              "      <td>5</td>\n",
              "      <td>19-02-2011</td>\n",
              "      <td>100</td>\n",
              "      <td>120.48</td>\n",
              "      <td>ODI</td>\n",
              "      <td>4</td>\n",
              "      <td>1</td>\n",
              "      <td>No</td>\n",
              "      <td>No</td>\n",
              "      <td>No</td>\n",
              "      <td>Bangladesh</td>\n",
              "      <td>Sher-e-Bangla Stadium, Dhaka</td>\n",
              "      <td>Away</td>\n",
              "      <td>Won</td>\n",
              "    </tr>\n",
              "  </tbody>\n",
              "</table>\n",
              "</div>\n",
              "    <div class=\"colab-df-buttons\">\n",
              "\n",
              "  <div class=\"colab-df-container\">\n",
              "    <button class=\"colab-df-convert\" onclick=\"convertToInteractive('df-3accf4a7-da53-4fe5-b7e9-4c99ffaac09f')\"\n",
              "            title=\"Convert this dataframe to an interactive table.\"\n",
              "            style=\"display:none;\">\n",
              "\n",
              "  <svg xmlns=\"http://www.w3.org/2000/svg\" height=\"24px\" viewBox=\"0 -960 960 960\">\n",
              "    <path d=\"M120-120v-720h720v720H120Zm60-500h600v-160H180v160Zm220 220h160v-160H400v160Zm0 220h160v-160H400v160ZM180-400h160v-160H180v160Zm440 0h160v-160H620v160ZM180-180h160v-160H180v160Zm440 0h160v-160H620v160Z\"/>\n",
              "  </svg>\n",
              "    </button>\n",
              "\n",
              "  <style>\n",
              "    .colab-df-container {\n",
              "      display:flex;\n",
              "      gap: 12px;\n",
              "    }\n",
              "\n",
              "    .colab-df-convert {\n",
              "      background-color: #E8F0FE;\n",
              "      border: none;\n",
              "      border-radius: 50%;\n",
              "      cursor: pointer;\n",
              "      display: none;\n",
              "      fill: #1967D2;\n",
              "      height: 32px;\n",
              "      padding: 0 0 0 0;\n",
              "      width: 32px;\n",
              "    }\n",
              "\n",
              "    .colab-df-convert:hover {\n",
              "      background-color: #E2EBFA;\n",
              "      box-shadow: 0px 1px 2px rgba(60, 64, 67, 0.3), 0px 1px 3px 1px rgba(60, 64, 67, 0.15);\n",
              "      fill: #174EA6;\n",
              "    }\n",
              "\n",
              "    .colab-df-buttons div {\n",
              "      margin-bottom: 4px;\n",
              "    }\n",
              "\n",
              "    [theme=dark] .colab-df-convert {\n",
              "      background-color: #3B4455;\n",
              "      fill: #D2E3FC;\n",
              "    }\n",
              "\n",
              "    [theme=dark] .colab-df-convert:hover {\n",
              "      background-color: #434B5C;\n",
              "      box-shadow: 0px 1px 3px 1px rgba(0, 0, 0, 0.15);\n",
              "      filter: drop-shadow(0px 1px 2px rgba(0, 0, 0, 0.3));\n",
              "      fill: #FFFFFF;\n",
              "    }\n",
              "  </style>\n",
              "\n",
              "    <script>\n",
              "      const buttonEl =\n",
              "        document.querySelector('#df-3accf4a7-da53-4fe5-b7e9-4c99ffaac09f button.colab-df-convert');\n",
              "      buttonEl.style.display =\n",
              "        google.colab.kernel.accessAllowed ? 'block' : 'none';\n",
              "\n",
              "      async function convertToInteractive(key) {\n",
              "        const element = document.querySelector('#df-3accf4a7-da53-4fe5-b7e9-4c99ffaac09f');\n",
              "        const dataTable =\n",
              "          await google.colab.kernel.invokeFunction('convertToInteractive',\n",
              "                                                    [key], {});\n",
              "        if (!dataTable) return;\n",
              "\n",
              "        const docLinkHtml = 'Like what you see? Visit the ' +\n",
              "          '<a target=\"_blank\" href=https://colab.research.google.com/notebooks/data_table.ipynb>data table notebook</a>'\n",
              "          + ' to learn more about interactive tables.';\n",
              "        element.innerHTML = '';\n",
              "        dataTable['output_type'] = 'display_data';\n",
              "        await google.colab.output.renderOutput(dataTable, element);\n",
              "        const docLink = document.createElement('div');\n",
              "        docLink.innerHTML = docLinkHtml;\n",
              "        element.appendChild(docLink);\n",
              "      }\n",
              "    </script>\n",
              "  </div>\n",
              "\n",
              "\n",
              "<div id=\"df-1dd4b636-575e-48bb-831a-e7c340cf56bf\">\n",
              "  <button class=\"colab-df-quickchart\" onclick=\"quickchart('df-1dd4b636-575e-48bb-831a-e7c340cf56bf')\"\n",
              "            title=\"Suggest charts\"\n",
              "            style=\"display:none;\">\n",
              "\n",
              "<svg xmlns=\"http://www.w3.org/2000/svg\" height=\"24px\"viewBox=\"0 0 24 24\"\n",
              "     width=\"24px\">\n",
              "    <g>\n",
              "        <path d=\"M19 3H5c-1.1 0-2 .9-2 2v14c0 1.1.9 2 2 2h14c1.1 0 2-.9 2-2V5c0-1.1-.9-2-2-2zM9 17H7v-7h2v7zm4 0h-2V7h2v10zm4 0h-2v-4h2v4z\"/>\n",
              "    </g>\n",
              "</svg>\n",
              "  </button>\n",
              "\n",
              "<style>\n",
              "  .colab-df-quickchart {\n",
              "      --bg-color: #E8F0FE;\n",
              "      --fill-color: #1967D2;\n",
              "      --hover-bg-color: #E2EBFA;\n",
              "      --hover-fill-color: #174EA6;\n",
              "      --disabled-fill-color: #AAA;\n",
              "      --disabled-bg-color: #DDD;\n",
              "  }\n",
              "\n",
              "  [theme=dark] .colab-df-quickchart {\n",
              "      --bg-color: #3B4455;\n",
              "      --fill-color: #D2E3FC;\n",
              "      --hover-bg-color: #434B5C;\n",
              "      --hover-fill-color: #FFFFFF;\n",
              "      --disabled-bg-color: #3B4455;\n",
              "      --disabled-fill-color: #666;\n",
              "  }\n",
              "\n",
              "  .colab-df-quickchart {\n",
              "    background-color: var(--bg-color);\n",
              "    border: none;\n",
              "    border-radius: 50%;\n",
              "    cursor: pointer;\n",
              "    display: none;\n",
              "    fill: var(--fill-color);\n",
              "    height: 32px;\n",
              "    padding: 0;\n",
              "    width: 32px;\n",
              "  }\n",
              "\n",
              "  .colab-df-quickchart:hover {\n",
              "    background-color: var(--hover-bg-color);\n",
              "    box-shadow: 0 1px 2px rgba(60, 64, 67, 0.3), 0 1px 3px 1px rgba(60, 64, 67, 0.15);\n",
              "    fill: var(--button-hover-fill-color);\n",
              "  }\n",
              "\n",
              "  .colab-df-quickchart-complete:disabled,\n",
              "  .colab-df-quickchart-complete:disabled:hover {\n",
              "    background-color: var(--disabled-bg-color);\n",
              "    fill: var(--disabled-fill-color);\n",
              "    box-shadow: none;\n",
              "  }\n",
              "\n",
              "  .colab-df-spinner {\n",
              "    border: 2px solid var(--fill-color);\n",
              "    border-color: transparent;\n",
              "    border-bottom-color: var(--fill-color);\n",
              "    animation:\n",
              "      spin 1s steps(1) infinite;\n",
              "  }\n",
              "\n",
              "  @keyframes spin {\n",
              "    0% {\n",
              "      border-color: transparent;\n",
              "      border-bottom-color: var(--fill-color);\n",
              "      border-left-color: var(--fill-color);\n",
              "    }\n",
              "    20% {\n",
              "      border-color: transparent;\n",
              "      border-left-color: var(--fill-color);\n",
              "      border-top-color: var(--fill-color);\n",
              "    }\n",
              "    30% {\n",
              "      border-color: transparent;\n",
              "      border-left-color: var(--fill-color);\n",
              "      border-top-color: var(--fill-color);\n",
              "      border-right-color: var(--fill-color);\n",
              "    }\n",
              "    40% {\n",
              "      border-color: transparent;\n",
              "      border-right-color: var(--fill-color);\n",
              "      border-top-color: var(--fill-color);\n",
              "    }\n",
              "    60% {\n",
              "      border-color: transparent;\n",
              "      border-right-color: var(--fill-color);\n",
              "    }\n",
              "    80% {\n",
              "      border-color: transparent;\n",
              "      border-right-color: var(--fill-color);\n",
              "      border-bottom-color: var(--fill-color);\n",
              "    }\n",
              "    90% {\n",
              "      border-color: transparent;\n",
              "      border-bottom-color: var(--fill-color);\n",
              "    }\n",
              "  }\n",
              "</style>\n",
              "\n",
              "  <script>\n",
              "    async function quickchart(key) {\n",
              "      const quickchartButtonEl =\n",
              "        document.querySelector('#' + key + ' button');\n",
              "      quickchartButtonEl.disabled = true;  // To prevent multiple clicks.\n",
              "      quickchartButtonEl.classList.add('colab-df-spinner');\n",
              "      try {\n",
              "        const charts = await google.colab.kernel.invokeFunction(\n",
              "            'suggestCharts', [key], {});\n",
              "      } catch (error) {\n",
              "        console.error('Error during call to suggestCharts:', error);\n",
              "      }\n",
              "      quickchartButtonEl.classList.remove('colab-df-spinner');\n",
              "      quickchartButtonEl.classList.add('colab-df-quickchart-complete');\n",
              "    }\n",
              "    (() => {\n",
              "      let quickchartButtonEl =\n",
              "        document.querySelector('#df-1dd4b636-575e-48bb-831a-e7c340cf56bf button');\n",
              "      quickchartButtonEl.style.display =\n",
              "        google.colab.kernel.accessAllowed ? 'block' : 'none';\n",
              "    })();\n",
              "  </script>\n",
              "</div>\n",
              "\n",
              "    </div>\n",
              "  </div>\n"
            ],
            "application/vnd.google.colaboratory.intrinsic+json": {
              "type": "dataframe",
              "variable_name": "df",
              "summary": "{\n  \"name\": \"df\",\n  \"rows\": 80,\n  \"fields\": [\n    {\n      \"column\": \"S. No.\",\n      \"properties\": {\n        \"dtype\": \"number\",\n        \"std\": 23,\n        \"min\": 1,\n        \"max\": 80,\n        \"num_unique_values\": 80,\n        \"samples\": [\n          31,\n          1,\n          23\n        ],\n        \"semantic_type\": \"\",\n        \"description\": \"\"\n      }\n    },\n    {\n      \"column\": \"Date\",\n      \"properties\": {\n        \"dtype\": \"object\",\n        \"num_unique_values\": 79,\n        \"samples\": [\n          \"22-10-2017\",\n          \"24-12-2009\",\n          \"22-10-2015\"\n        ],\n        \"semantic_type\": \"\",\n        \"description\": \"\"\n      }\n    },\n    {\n      \"column\": \"Score\",\n      \"properties\": {\n        \"dtype\": \"number\",\n        \"std\": 35,\n        \"min\": 100,\n        \"max\": 254,\n        \"num_unique_values\": 51,\n        \"samples\": [\n          235,\n          200,\n          243\n        ],\n        \"semantic_type\": \"\",\n        \"description\": \"\"\n      }\n    },\n    {\n      \"column\": \"Strike Rate\",\n      \"properties\": {\n        \"dtype\": \"number\",\n        \"std\": 32.741739222679506,\n        \"min\": 34.91,\n        \"max\": 200.0,\n        \"num_unique_values\": 79,\n        \"samples\": [\n          96.8,\n          93.85,\n          98.57\n        ],\n        \"semantic_type\": \"\",\n        \"description\": \"\"\n      }\n    },\n    {\n      \"column\": \"Type of Match\",\n      \"properties\": {\n        \"dtype\": \"category\",\n        \"num_unique_values\": 3,\n        \"samples\": [\n          \"ODI\",\n          \"Test\",\n          \"T20\"\n        ],\n        \"semantic_type\": \"\",\n        \"description\": \"\"\n      }\n    },\n    {\n      \"column\": \"Position\",\n      \"properties\": {\n        \"dtype\": \"number\",\n        \"std\": 0,\n        \"min\": 2,\n        \"max\": 6,\n        \"num_unique_values\": 5,\n        \"samples\": [\n          3,\n          2,\n          6\n        ],\n        \"semantic_type\": \"\",\n        \"description\": \"\"\n      }\n    },\n    {\n      \"column\": \"Innings\",\n      \"properties\": {\n        \"dtype\": \"number\",\n        \"std\": 0,\n        \"min\": 1,\n        \"max\": 4,\n        \"num_unique_values\": 4,\n        \"samples\": [\n          1,\n          3,\n          2\n        ],\n        \"semantic_type\": \"\",\n        \"description\": \"\"\n      }\n    },\n    {\n      \"column\": \"Dismissed\",\n      \"properties\": {\n        \"dtype\": \"category\",\n        \"num_unique_values\": 2,\n        \"samples\": [\n          \"No\",\n          \"Yes\"\n        ],\n        \"semantic_type\": \"\",\n        \"description\": \"\"\n      }\n    },\n    {\n      \"column\": \"Man of the Match\",\n      \"properties\": {\n        \"dtype\": \"category\",\n        \"num_unique_values\": 2,\n        \"samples\": [\n          \"Yes\",\n          \"No\"\n        ],\n        \"semantic_type\": \"\",\n        \"description\": \"\"\n      }\n    },\n    {\n      \"column\": \"Captain\",\n      \"properties\": {\n        \"dtype\": \"category\",\n        \"num_unique_values\": 2,\n        \"samples\": [\n          \"Yes\",\n          \"No\"\n        ],\n        \"semantic_type\": \"\",\n        \"description\": \"\"\n      }\n    },\n    {\n      \"column\": \"Against\",\n      \"properties\": {\n        \"dtype\": \"category\",\n        \"num_unique_values\": 10,\n        \"samples\": [\n          \"South Africa\",\n          \"Bangladesh\"\n        ],\n        \"semantic_type\": \"\",\n        \"description\": \"\"\n      }\n    },\n    {\n      \"column\": \"Venue\",\n      \"properties\": {\n        \"dtype\": \"string\",\n        \"num_unique_values\": 49,\n        \"samples\": [\n          \"McLean Park, Napier\",\n          \"Saurashtra Cricket Association Stadium, Rajkot\"\n        ],\n        \"semantic_type\": \"\",\n        \"description\": \"\"\n      }\n    },\n    {\n      \"column\": \"H/A/N\",\n      \"properties\": {\n        \"dtype\": \"category\",\n        \"num_unique_values\": 3,\n        \"samples\": [\n          \"Home\",\n          \"Away\"\n        ],\n        \"semantic_type\": \"\",\n        \"description\": \"\"\n      }\n    },\n    {\n      \"column\": \"Result\",\n      \"properties\": {\n        \"dtype\": \"category\",\n        \"num_unique_values\": 4,\n        \"samples\": [\n          \"Lost\",\n          \"Drawn\"\n        ],\n        \"semantic_type\": \"\",\n        \"description\": \"\"\n      }\n    }\n  ]\n}"
            }
          },
          "metadata": {},
          "execution_count": 3
        }
      ]
    },
    {
      "cell_type": "code",
      "source": [
        "df.tail()"
      ],
      "metadata": {
        "execution": {
          "iopub.status.busy": "2024-05-16T16:48:24.388855Z",
          "iopub.execute_input": "2024-05-16T16:48:24.389267Z",
          "iopub.status.idle": "2024-05-16T16:48:24.40803Z",
          "shell.execute_reply.started": "2024-05-16T16:48:24.389233Z",
          "shell.execute_reply": "2024-05-16T16:48:24.407148Z"
        },
        "trusted": true,
        "id": "eKSeLjmKVLVC",
        "colab": {
          "base_uri": "https://localhost:8080/",
          "height": 382
        },
        "outputId": "722c72e4-fb6e-4425-84fc-dfe130911c73"
      },
      "execution_count": 4,
      "outputs": [
        {
          "output_type": "execute_result",
          "data": {
            "text/plain": [
              "    S. No.        Date  Score  Strike Rate Type of Match  Position  Innings  \\\n",
              "75      76  10-10-2019    254        75.59          Test         4        1   \n",
              "76      77  22-11-2019    136        70.10          Test         4        2   \n",
              "77      78  09-03-2023    186        51.09          Test         4        2   \n",
              "78      79  20-07-2023    121        58.73          Test         4        1   \n",
              "79      80  08-09-2022    122       200.00           T20         2        1   \n",
              "\n",
              "   Dismissed Man of the Match Captain       Against  \\\n",
              "75        No              Yes     Yes  South Africa   \n",
              "76       Yes               No     Yes    Bangladesh   \n",
              "77       Yes              Yes      No     Australia   \n",
              "78       Yes               No      No   West Indies   \n",
              "79        No              Yes      No   Afghanistan   \n",
              "\n",
              "                                            Venue    H/A/N Result  \n",
              "75  Maharashtra Cricket Association Stadium, Pune     Home    Won  \n",
              "76                          Eden Gardens, Kolkata     Home    Won  \n",
              "77               Narendra Modi Stadium, Ahmedabad     Home  Drawn  \n",
              "78               Queen's Park Oval, Port of Spain     Away  Drawn  \n",
              "79     Dubai International Cricket Stadium, Dubai  Neutral    Won  "
            ],
            "text/html": [
              "\n",
              "  <div id=\"df-80238b73-1780-437b-a4af-90863f5a4283\" class=\"colab-df-container\">\n",
              "    <div>\n",
              "<style scoped>\n",
              "    .dataframe tbody tr th:only-of-type {\n",
              "        vertical-align: middle;\n",
              "    }\n",
              "\n",
              "    .dataframe tbody tr th {\n",
              "        vertical-align: top;\n",
              "    }\n",
              "\n",
              "    .dataframe thead th {\n",
              "        text-align: right;\n",
              "    }\n",
              "</style>\n",
              "<table border=\"1\" class=\"dataframe\">\n",
              "  <thead>\n",
              "    <tr style=\"text-align: right;\">\n",
              "      <th></th>\n",
              "      <th>S. No.</th>\n",
              "      <th>Date</th>\n",
              "      <th>Score</th>\n",
              "      <th>Strike Rate</th>\n",
              "      <th>Type of Match</th>\n",
              "      <th>Position</th>\n",
              "      <th>Innings</th>\n",
              "      <th>Dismissed</th>\n",
              "      <th>Man of the Match</th>\n",
              "      <th>Captain</th>\n",
              "      <th>Against</th>\n",
              "      <th>Venue</th>\n",
              "      <th>H/A/N</th>\n",
              "      <th>Result</th>\n",
              "    </tr>\n",
              "  </thead>\n",
              "  <tbody>\n",
              "    <tr>\n",
              "      <th>75</th>\n",
              "      <td>76</td>\n",
              "      <td>10-10-2019</td>\n",
              "      <td>254</td>\n",
              "      <td>75.59</td>\n",
              "      <td>Test</td>\n",
              "      <td>4</td>\n",
              "      <td>1</td>\n",
              "      <td>No</td>\n",
              "      <td>Yes</td>\n",
              "      <td>Yes</td>\n",
              "      <td>South Africa</td>\n",
              "      <td>Maharashtra Cricket Association Stadium, Pune</td>\n",
              "      <td>Home</td>\n",
              "      <td>Won</td>\n",
              "    </tr>\n",
              "    <tr>\n",
              "      <th>76</th>\n",
              "      <td>77</td>\n",
              "      <td>22-11-2019</td>\n",
              "      <td>136</td>\n",
              "      <td>70.10</td>\n",
              "      <td>Test</td>\n",
              "      <td>4</td>\n",
              "      <td>2</td>\n",
              "      <td>Yes</td>\n",
              "      <td>No</td>\n",
              "      <td>Yes</td>\n",
              "      <td>Bangladesh</td>\n",
              "      <td>Eden Gardens, Kolkata</td>\n",
              "      <td>Home</td>\n",
              "      <td>Won</td>\n",
              "    </tr>\n",
              "    <tr>\n",
              "      <th>77</th>\n",
              "      <td>78</td>\n",
              "      <td>09-03-2023</td>\n",
              "      <td>186</td>\n",
              "      <td>51.09</td>\n",
              "      <td>Test</td>\n",
              "      <td>4</td>\n",
              "      <td>2</td>\n",
              "      <td>Yes</td>\n",
              "      <td>Yes</td>\n",
              "      <td>No</td>\n",
              "      <td>Australia</td>\n",
              "      <td>Narendra Modi Stadium, Ahmedabad</td>\n",
              "      <td>Home</td>\n",
              "      <td>Drawn</td>\n",
              "    </tr>\n",
              "    <tr>\n",
              "      <th>78</th>\n",
              "      <td>79</td>\n",
              "      <td>20-07-2023</td>\n",
              "      <td>121</td>\n",
              "      <td>58.73</td>\n",
              "      <td>Test</td>\n",
              "      <td>4</td>\n",
              "      <td>1</td>\n",
              "      <td>Yes</td>\n",
              "      <td>No</td>\n",
              "      <td>No</td>\n",
              "      <td>West Indies</td>\n",
              "      <td>Queen's Park Oval, Port of Spain</td>\n",
              "      <td>Away</td>\n",
              "      <td>Drawn</td>\n",
              "    </tr>\n",
              "    <tr>\n",
              "      <th>79</th>\n",
              "      <td>80</td>\n",
              "      <td>08-09-2022</td>\n",
              "      <td>122</td>\n",
              "      <td>200.00</td>\n",
              "      <td>T20</td>\n",
              "      <td>2</td>\n",
              "      <td>1</td>\n",
              "      <td>No</td>\n",
              "      <td>Yes</td>\n",
              "      <td>No</td>\n",
              "      <td>Afghanistan</td>\n",
              "      <td>Dubai International Cricket Stadium, Dubai</td>\n",
              "      <td>Neutral</td>\n",
              "      <td>Won</td>\n",
              "    </tr>\n",
              "  </tbody>\n",
              "</table>\n",
              "</div>\n",
              "    <div class=\"colab-df-buttons\">\n",
              "\n",
              "  <div class=\"colab-df-container\">\n",
              "    <button class=\"colab-df-convert\" onclick=\"convertToInteractive('df-80238b73-1780-437b-a4af-90863f5a4283')\"\n",
              "            title=\"Convert this dataframe to an interactive table.\"\n",
              "            style=\"display:none;\">\n",
              "\n",
              "  <svg xmlns=\"http://www.w3.org/2000/svg\" height=\"24px\" viewBox=\"0 -960 960 960\">\n",
              "    <path d=\"M120-120v-720h720v720H120Zm60-500h600v-160H180v160Zm220 220h160v-160H400v160Zm0 220h160v-160H400v160ZM180-400h160v-160H180v160Zm440 0h160v-160H620v160ZM180-180h160v-160H180v160Zm440 0h160v-160H620v160Z\"/>\n",
              "  </svg>\n",
              "    </button>\n",
              "\n",
              "  <style>\n",
              "    .colab-df-container {\n",
              "      display:flex;\n",
              "      gap: 12px;\n",
              "    }\n",
              "\n",
              "    .colab-df-convert {\n",
              "      background-color: #E8F0FE;\n",
              "      border: none;\n",
              "      border-radius: 50%;\n",
              "      cursor: pointer;\n",
              "      display: none;\n",
              "      fill: #1967D2;\n",
              "      height: 32px;\n",
              "      padding: 0 0 0 0;\n",
              "      width: 32px;\n",
              "    }\n",
              "\n",
              "    .colab-df-convert:hover {\n",
              "      background-color: #E2EBFA;\n",
              "      box-shadow: 0px 1px 2px rgba(60, 64, 67, 0.3), 0px 1px 3px 1px rgba(60, 64, 67, 0.15);\n",
              "      fill: #174EA6;\n",
              "    }\n",
              "\n",
              "    .colab-df-buttons div {\n",
              "      margin-bottom: 4px;\n",
              "    }\n",
              "\n",
              "    [theme=dark] .colab-df-convert {\n",
              "      background-color: #3B4455;\n",
              "      fill: #D2E3FC;\n",
              "    }\n",
              "\n",
              "    [theme=dark] .colab-df-convert:hover {\n",
              "      background-color: #434B5C;\n",
              "      box-shadow: 0px 1px 3px 1px rgba(0, 0, 0, 0.15);\n",
              "      filter: drop-shadow(0px 1px 2px rgba(0, 0, 0, 0.3));\n",
              "      fill: #FFFFFF;\n",
              "    }\n",
              "  </style>\n",
              "\n",
              "    <script>\n",
              "      const buttonEl =\n",
              "        document.querySelector('#df-80238b73-1780-437b-a4af-90863f5a4283 button.colab-df-convert');\n",
              "      buttonEl.style.display =\n",
              "        google.colab.kernel.accessAllowed ? 'block' : 'none';\n",
              "\n",
              "      async function convertToInteractive(key) {\n",
              "        const element = document.querySelector('#df-80238b73-1780-437b-a4af-90863f5a4283');\n",
              "        const dataTable =\n",
              "          await google.colab.kernel.invokeFunction('convertToInteractive',\n",
              "                                                    [key], {});\n",
              "        if (!dataTable) return;\n",
              "\n",
              "        const docLinkHtml = 'Like what you see? Visit the ' +\n",
              "          '<a target=\"_blank\" href=https://colab.research.google.com/notebooks/data_table.ipynb>data table notebook</a>'\n",
              "          + ' to learn more about interactive tables.';\n",
              "        element.innerHTML = '';\n",
              "        dataTable['output_type'] = 'display_data';\n",
              "        await google.colab.output.renderOutput(dataTable, element);\n",
              "        const docLink = document.createElement('div');\n",
              "        docLink.innerHTML = docLinkHtml;\n",
              "        element.appendChild(docLink);\n",
              "      }\n",
              "    </script>\n",
              "  </div>\n",
              "\n",
              "\n",
              "<div id=\"df-f4edcf3f-5be6-45d6-b2b1-7f23f729613d\">\n",
              "  <button class=\"colab-df-quickchart\" onclick=\"quickchart('df-f4edcf3f-5be6-45d6-b2b1-7f23f729613d')\"\n",
              "            title=\"Suggest charts\"\n",
              "            style=\"display:none;\">\n",
              "\n",
              "<svg xmlns=\"http://www.w3.org/2000/svg\" height=\"24px\"viewBox=\"0 0 24 24\"\n",
              "     width=\"24px\">\n",
              "    <g>\n",
              "        <path d=\"M19 3H5c-1.1 0-2 .9-2 2v14c0 1.1.9 2 2 2h14c1.1 0 2-.9 2-2V5c0-1.1-.9-2-2-2zM9 17H7v-7h2v7zm4 0h-2V7h2v10zm4 0h-2v-4h2v4z\"/>\n",
              "    </g>\n",
              "</svg>\n",
              "  </button>\n",
              "\n",
              "<style>\n",
              "  .colab-df-quickchart {\n",
              "      --bg-color: #E8F0FE;\n",
              "      --fill-color: #1967D2;\n",
              "      --hover-bg-color: #E2EBFA;\n",
              "      --hover-fill-color: #174EA6;\n",
              "      --disabled-fill-color: #AAA;\n",
              "      --disabled-bg-color: #DDD;\n",
              "  }\n",
              "\n",
              "  [theme=dark] .colab-df-quickchart {\n",
              "      --bg-color: #3B4455;\n",
              "      --fill-color: #D2E3FC;\n",
              "      --hover-bg-color: #434B5C;\n",
              "      --hover-fill-color: #FFFFFF;\n",
              "      --disabled-bg-color: #3B4455;\n",
              "      --disabled-fill-color: #666;\n",
              "  }\n",
              "\n",
              "  .colab-df-quickchart {\n",
              "    background-color: var(--bg-color);\n",
              "    border: none;\n",
              "    border-radius: 50%;\n",
              "    cursor: pointer;\n",
              "    display: none;\n",
              "    fill: var(--fill-color);\n",
              "    height: 32px;\n",
              "    padding: 0;\n",
              "    width: 32px;\n",
              "  }\n",
              "\n",
              "  .colab-df-quickchart:hover {\n",
              "    background-color: var(--hover-bg-color);\n",
              "    box-shadow: 0 1px 2px rgba(60, 64, 67, 0.3), 0 1px 3px 1px rgba(60, 64, 67, 0.15);\n",
              "    fill: var(--button-hover-fill-color);\n",
              "  }\n",
              "\n",
              "  .colab-df-quickchart-complete:disabled,\n",
              "  .colab-df-quickchart-complete:disabled:hover {\n",
              "    background-color: var(--disabled-bg-color);\n",
              "    fill: var(--disabled-fill-color);\n",
              "    box-shadow: none;\n",
              "  }\n",
              "\n",
              "  .colab-df-spinner {\n",
              "    border: 2px solid var(--fill-color);\n",
              "    border-color: transparent;\n",
              "    border-bottom-color: var(--fill-color);\n",
              "    animation:\n",
              "      spin 1s steps(1) infinite;\n",
              "  }\n",
              "\n",
              "  @keyframes spin {\n",
              "    0% {\n",
              "      border-color: transparent;\n",
              "      border-bottom-color: var(--fill-color);\n",
              "      border-left-color: var(--fill-color);\n",
              "    }\n",
              "    20% {\n",
              "      border-color: transparent;\n",
              "      border-left-color: var(--fill-color);\n",
              "      border-top-color: var(--fill-color);\n",
              "    }\n",
              "    30% {\n",
              "      border-color: transparent;\n",
              "      border-left-color: var(--fill-color);\n",
              "      border-top-color: var(--fill-color);\n",
              "      border-right-color: var(--fill-color);\n",
              "    }\n",
              "    40% {\n",
              "      border-color: transparent;\n",
              "      border-right-color: var(--fill-color);\n",
              "      border-top-color: var(--fill-color);\n",
              "    }\n",
              "    60% {\n",
              "      border-color: transparent;\n",
              "      border-right-color: var(--fill-color);\n",
              "    }\n",
              "    80% {\n",
              "      border-color: transparent;\n",
              "      border-right-color: var(--fill-color);\n",
              "      border-bottom-color: var(--fill-color);\n",
              "    }\n",
              "    90% {\n",
              "      border-color: transparent;\n",
              "      border-bottom-color: var(--fill-color);\n",
              "    }\n",
              "  }\n",
              "</style>\n",
              "\n",
              "  <script>\n",
              "    async function quickchart(key) {\n",
              "      const quickchartButtonEl =\n",
              "        document.querySelector('#' + key + ' button');\n",
              "      quickchartButtonEl.disabled = true;  // To prevent multiple clicks.\n",
              "      quickchartButtonEl.classList.add('colab-df-spinner');\n",
              "      try {\n",
              "        const charts = await google.colab.kernel.invokeFunction(\n",
              "            'suggestCharts', [key], {});\n",
              "      } catch (error) {\n",
              "        console.error('Error during call to suggestCharts:', error);\n",
              "      }\n",
              "      quickchartButtonEl.classList.remove('colab-df-spinner');\n",
              "      quickchartButtonEl.classList.add('colab-df-quickchart-complete');\n",
              "    }\n",
              "    (() => {\n",
              "      let quickchartButtonEl =\n",
              "        document.querySelector('#df-f4edcf3f-5be6-45d6-b2b1-7f23f729613d button');\n",
              "      quickchartButtonEl.style.display =\n",
              "        google.colab.kernel.accessAllowed ? 'block' : 'none';\n",
              "    })();\n",
              "  </script>\n",
              "</div>\n",
              "\n",
              "    </div>\n",
              "  </div>\n"
            ],
            "application/vnd.google.colaboratory.intrinsic+json": {
              "type": "dataframe",
              "summary": "{\n  \"name\": \"df\",\n  \"rows\": 5,\n  \"fields\": [\n    {\n      \"column\": \"S. No.\",\n      \"properties\": {\n        \"dtype\": \"number\",\n        \"std\": 1,\n        \"min\": 76,\n        \"max\": 80,\n        \"num_unique_values\": 5,\n        \"samples\": [\n          77,\n          80,\n          78\n        ],\n        \"semantic_type\": \"\",\n        \"description\": \"\"\n      }\n    },\n    {\n      \"column\": \"Date\",\n      \"properties\": {\n        \"dtype\": \"string\",\n        \"num_unique_values\": 5,\n        \"samples\": [\n          \"22-11-2019\",\n          \"08-09-2022\",\n          \"09-03-2023\"\n        ],\n        \"semantic_type\": \"\",\n        \"description\": \"\"\n      }\n    },\n    {\n      \"column\": \"Score\",\n      \"properties\": {\n        \"dtype\": \"number\",\n        \"std\": 56,\n        \"min\": 121,\n        \"max\": 254,\n        \"num_unique_values\": 5,\n        \"samples\": [\n          136,\n          122,\n          186\n        ],\n        \"semantic_type\": \"\",\n        \"description\": \"\"\n      }\n    },\n    {\n      \"column\": \"Strike Rate\",\n      \"properties\": {\n        \"dtype\": \"number\",\n        \"std\": 61.62261573480957,\n        \"min\": 51.09,\n        \"max\": 200.0,\n        \"num_unique_values\": 5,\n        \"samples\": [\n          70.1,\n          200.0,\n          51.09\n        ],\n        \"semantic_type\": \"\",\n        \"description\": \"\"\n      }\n    },\n    {\n      \"column\": \"Type of Match\",\n      \"properties\": {\n        \"dtype\": \"category\",\n        \"num_unique_values\": 2,\n        \"samples\": [\n          \"T20\",\n          \"Test\"\n        ],\n        \"semantic_type\": \"\",\n        \"description\": \"\"\n      }\n    },\n    {\n      \"column\": \"Position\",\n      \"properties\": {\n        \"dtype\": \"number\",\n        \"std\": 0,\n        \"min\": 2,\n        \"max\": 4,\n        \"num_unique_values\": 2,\n        \"samples\": [\n          2,\n          4\n        ],\n        \"semantic_type\": \"\",\n        \"description\": \"\"\n      }\n    },\n    {\n      \"column\": \"Innings\",\n      \"properties\": {\n        \"dtype\": \"number\",\n        \"std\": 0,\n        \"min\": 1,\n        \"max\": 2,\n        \"num_unique_values\": 2,\n        \"samples\": [\n          2,\n          1\n        ],\n        \"semantic_type\": \"\",\n        \"description\": \"\"\n      }\n    },\n    {\n      \"column\": \"Dismissed\",\n      \"properties\": {\n        \"dtype\": \"category\",\n        \"num_unique_values\": 2,\n        \"samples\": [\n          \"Yes\",\n          \"No\"\n        ],\n        \"semantic_type\": \"\",\n        \"description\": \"\"\n      }\n    },\n    {\n      \"column\": \"Man of the Match\",\n      \"properties\": {\n        \"dtype\": \"category\",\n        \"num_unique_values\": 2,\n        \"samples\": [\n          \"No\",\n          \"Yes\"\n        ],\n        \"semantic_type\": \"\",\n        \"description\": \"\"\n      }\n    },\n    {\n      \"column\": \"Captain\",\n      \"properties\": {\n        \"dtype\": \"category\",\n        \"num_unique_values\": 2,\n        \"samples\": [\n          \"No\",\n          \"Yes\"\n        ],\n        \"semantic_type\": \"\",\n        \"description\": \"\"\n      }\n    },\n    {\n      \"column\": \"Against\",\n      \"properties\": {\n        \"dtype\": \"string\",\n        \"num_unique_values\": 5,\n        \"samples\": [\n          \"Bangladesh\",\n          \"Afghanistan\"\n        ],\n        \"semantic_type\": \"\",\n        \"description\": \"\"\n      }\n    },\n    {\n      \"column\": \"Venue\",\n      \"properties\": {\n        \"dtype\": \"string\",\n        \"num_unique_values\": 5,\n        \"samples\": [\n          \"Eden Gardens, Kolkata\",\n          \"Dubai International Cricket Stadium, Dubai\"\n        ],\n        \"semantic_type\": \"\",\n        \"description\": \"\"\n      }\n    },\n    {\n      \"column\": \"H/A/N\",\n      \"properties\": {\n        \"dtype\": \"string\",\n        \"num_unique_values\": 3,\n        \"samples\": [\n          \"Home\",\n          \"Away\"\n        ],\n        \"semantic_type\": \"\",\n        \"description\": \"\"\n      }\n    },\n    {\n      \"column\": \"Result\",\n      \"properties\": {\n        \"dtype\": \"category\",\n        \"num_unique_values\": 2,\n        \"samples\": [\n          \"Drawn\",\n          \"Won\"\n        ],\n        \"semantic_type\": \"\",\n        \"description\": \"\"\n      }\n    }\n  ]\n}"
            }
          },
          "metadata": {},
          "execution_count": 4
        }
      ]
    },
    {
      "cell_type": "code",
      "source": [
        "df.shape"
      ],
      "metadata": {
        "execution": {
          "iopub.status.busy": "2024-05-16T16:48:39.378473Z",
          "iopub.execute_input": "2024-05-16T16:48:39.378891Z",
          "iopub.status.idle": "2024-05-16T16:48:39.38644Z",
          "shell.execute_reply.started": "2024-05-16T16:48:39.378859Z",
          "shell.execute_reply": "2024-05-16T16:48:39.385255Z"
        },
        "trusted": true,
        "id": "FpL3wgv5VLVD",
        "colab": {
          "base_uri": "https://localhost:8080/"
        },
        "outputId": "0a773e69-a4ee-4766-b9ce-123868090c7d"
      },
      "execution_count": 5,
      "outputs": [
        {
          "output_type": "execute_result",
          "data": {
            "text/plain": [
              "(80, 14)"
            ]
          },
          "metadata": {},
          "execution_count": 5
        }
      ]
    },
    {
      "cell_type": "code",
      "source": [
        "df.describe"
      ],
      "metadata": {
        "execution": {
          "iopub.status.busy": "2024-05-16T16:49:00.313439Z",
          "iopub.execute_input": "2024-05-16T16:49:00.313847Z",
          "iopub.status.idle": "2024-05-16T16:49:00.334776Z",
          "shell.execute_reply.started": "2024-05-16T16:49:00.313813Z",
          "shell.execute_reply": "2024-05-16T16:49:00.333528Z"
        },
        "trusted": true,
        "id": "i9Ip9jSoVLVD",
        "colab": {
          "base_uri": "https://localhost:8080/",
          "height": 206
        },
        "outputId": "15cb0d0e-a32a-4380-804f-acd26bcd737a"
      },
      "execution_count": 6,
      "outputs": [
        {
          "output_type": "execute_result",
          "data": {
            "text/plain": [
              "<bound method NDFrame.describe of     S. No.        Date  Score  Strike Rate Type of Match  Position  Innings  \\\n",
              "0        1  24-12-2009    107        93.85           ODI         4        2   \n",
              "1        2  11-01-2010    102       107.37           ODI         3        2   \n",
              "2        3  20-10-2010    118        97.52           ODI         3        2   \n",
              "3        4  28-11-2010    105       100.96           ODI         3        1   \n",
              "4        5  19-02-2011    100       120.48           ODI         4        1   \n",
              "..     ...         ...    ...          ...           ...       ...      ...   \n",
              "75      76  10-10-2019    254        75.59          Test         4        1   \n",
              "76      77  22-11-2019    136        70.10          Test         4        2   \n",
              "77      78  09-03-2023    186        51.09          Test         4        2   \n",
              "78      79  20-07-2023    121        58.73          Test         4        1   \n",
              "79      80  08-09-2022    122       200.00           T20         2        1   \n",
              "\n",
              "   Dismissed Man of the Match Captain       Against  \\\n",
              "0        Yes               No      No     Sri Lanka   \n",
              "1         No              Yes      No    Bangladesh   \n",
              "2        Yes              Yes      No     Australia   \n",
              "3        Yes              Yes      No   New Zealand   \n",
              "4         No               No      No    Bangladesh   \n",
              "..       ...              ...     ...           ...   \n",
              "75        No              Yes     Yes  South Africa   \n",
              "76       Yes               No     Yes    Bangladesh   \n",
              "77       Yes              Yes      No     Australia   \n",
              "78       Yes               No      No   West Indies   \n",
              "79        No              Yes      No   Afghanistan   \n",
              "\n",
              "                                            Venue    H/A/N Result  \n",
              "0                           Eden Gardens, Kolkata     Home    Won  \n",
              "1                    Sher-e-Bangla Stadium, Dhaka     Away    Won  \n",
              "2                APCA-VDCA Stadium, Visakhapatnam     Home    Won  \n",
              "3                         Nehru Stadium, Guwahati     Home    Won  \n",
              "4                    Sher-e-Bangla Stadium, Dhaka     Away    Won  \n",
              "..                                            ...      ...    ...  \n",
              "75  Maharashtra Cricket Association Stadium, Pune     Home    Won  \n",
              "76                          Eden Gardens, Kolkata     Home    Won  \n",
              "77               Narendra Modi Stadium, Ahmedabad     Home  Drawn  \n",
              "78               Queen's Park Oval, Port of Spain     Away  Drawn  \n",
              "79     Dubai International Cricket Stadium, Dubai  Neutral    Won  \n",
              "\n",
              "[80 rows x 14 columns]>"
            ],
            "text/html": [
              "<div style=\"max-width:800px; border: 1px solid var(--colab-border-color);\"><style>\n",
              "      pre.function-repr-contents {\n",
              "        overflow-x: auto;\n",
              "        padding: 8px 12px;\n",
              "        max-height: 500px;\n",
              "      }\n",
              "\n",
              "      pre.function-repr-contents.function-repr-contents-collapsed {\n",
              "        cursor: pointer;\n",
              "        max-height: 100px;\n",
              "      }\n",
              "    </style>\n",
              "    <pre style=\"white-space: initial; background:\n",
              "         var(--colab-secondary-surface-color); padding: 8px 12px;\n",
              "         border-bottom: 1px solid var(--colab-border-color);\"><b>pandas.core.generic.NDFrame.describe</b><br/>def describe(percentiles=None, include=None, exclude=None) -&gt; NDFrameT</pre><pre class=\"function-repr-contents function-repr-contents-collapsed\" style=\"\"><a class=\"filepath\" style=\"display:none\" href=\"#\">/usr/local/lib/python3.10/dist-packages/pandas/core/generic.py</a>Generate descriptive statistics.\n",
              "\n",
              "Descriptive statistics include those that summarize the central\n",
              "tendency, dispersion and shape of a\n",
              "dataset&#x27;s distribution, excluding ``NaN`` values.\n",
              "\n",
              "Analyzes both numeric and object series, as well\n",
              "as ``DataFrame`` column sets of mixed data types. The output\n",
              "will vary depending on what is provided. Refer to the notes\n",
              "below for more detail.\n",
              "\n",
              "Parameters\n",
              "----------\n",
              "percentiles : list-like of numbers, optional\n",
              "    The percentiles to include in the output. All should\n",
              "    fall between 0 and 1. The default is\n",
              "    ``[.25, .5, .75]``, which returns the 25th, 50th, and\n",
              "    75th percentiles.\n",
              "include : &#x27;all&#x27;, list-like of dtypes or None (default), optional\n",
              "    A white list of data types to include in the result. Ignored\n",
              "    for ``Series``. Here are the options:\n",
              "\n",
              "    - &#x27;all&#x27; : All columns of the input will be included in the output.\n",
              "    - A list-like of dtypes : Limits the results to the\n",
              "      provided data types.\n",
              "      To limit the result to numeric types submit\n",
              "      ``numpy.number``. To limit it instead to object columns submit\n",
              "      the ``numpy.object`` data type. Strings\n",
              "      can also be used in the style of\n",
              "      ``select_dtypes`` (e.g. ``df.describe(include=[&#x27;O&#x27;])``). To\n",
              "      select pandas categorical columns, use ``&#x27;category&#x27;``\n",
              "    - None (default) : The result will include all numeric columns.\n",
              "exclude : list-like of dtypes or None (default), optional,\n",
              "    A black list of data types to omit from the result. Ignored\n",
              "    for ``Series``. Here are the options:\n",
              "\n",
              "    - A list-like of dtypes : Excludes the provided data types\n",
              "      from the result. To exclude numeric types submit\n",
              "      ``numpy.number``. To exclude object columns submit the data\n",
              "      type ``numpy.object``. Strings can also be used in the style of\n",
              "      ``select_dtypes`` (e.g. ``df.describe(exclude=[&#x27;O&#x27;])``). To\n",
              "      exclude pandas categorical columns, use ``&#x27;category&#x27;``\n",
              "    - None (default) : The result will exclude nothing.\n",
              "\n",
              "Returns\n",
              "-------\n",
              "Series or DataFrame\n",
              "    Summary statistics of the Series or Dataframe provided.\n",
              "\n",
              "See Also\n",
              "--------\n",
              "DataFrame.count: Count number of non-NA/null observations.\n",
              "DataFrame.max: Maximum of the values in the object.\n",
              "DataFrame.min: Minimum of the values in the object.\n",
              "DataFrame.mean: Mean of the values.\n",
              "DataFrame.std: Standard deviation of the observations.\n",
              "DataFrame.select_dtypes: Subset of a DataFrame including/excluding\n",
              "    columns based on their dtype.\n",
              "\n",
              "Notes\n",
              "-----\n",
              "For numeric data, the result&#x27;s index will include ``count``,\n",
              "``mean``, ``std``, ``min``, ``max`` as well as lower, ``50`` and\n",
              "upper percentiles. By default the lower percentile is ``25`` and the\n",
              "upper percentile is ``75``. The ``50`` percentile is the\n",
              "same as the median.\n",
              "\n",
              "For object data (e.g. strings or timestamps), the result&#x27;s index\n",
              "will include ``count``, ``unique``, ``top``, and ``freq``. The ``top``\n",
              "is the most common value. The ``freq`` is the most common value&#x27;s\n",
              "frequency. Timestamps also include the ``first`` and ``last`` items.\n",
              "\n",
              "If multiple object values have the highest count, then the\n",
              "``count`` and ``top`` results will be arbitrarily chosen from\n",
              "among those with the highest count.\n",
              "\n",
              "For mixed data types provided via a ``DataFrame``, the default is to\n",
              "return only an analysis of numeric columns. If the dataframe consists\n",
              "only of object and categorical data without any numeric columns, the\n",
              "default is to return an analysis of both the object and categorical\n",
              "columns. If ``include=&#x27;all&#x27;`` is provided as an option, the result\n",
              "will include a union of attributes of each type.\n",
              "\n",
              "The `include` and `exclude` parameters can be used to limit\n",
              "which columns in a ``DataFrame`` are analyzed for the output.\n",
              "The parameters are ignored when analyzing a ``Series``.\n",
              "\n",
              "Examples\n",
              "--------\n",
              "Describing a numeric ``Series``.\n",
              "\n",
              "&gt;&gt;&gt; s = pd.Series([1, 2, 3])\n",
              "&gt;&gt;&gt; s.describe()\n",
              "count    3.0\n",
              "mean     2.0\n",
              "std      1.0\n",
              "min      1.0\n",
              "25%      1.5\n",
              "50%      2.0\n",
              "75%      2.5\n",
              "max      3.0\n",
              "dtype: float64\n",
              "\n",
              "Describing a categorical ``Series``.\n",
              "\n",
              "&gt;&gt;&gt; s = pd.Series([&#x27;a&#x27;, &#x27;a&#x27;, &#x27;b&#x27;, &#x27;c&#x27;])\n",
              "&gt;&gt;&gt; s.describe()\n",
              "count     4\n",
              "unique    3\n",
              "top       a\n",
              "freq      2\n",
              "dtype: object\n",
              "\n",
              "Describing a timestamp ``Series``.\n",
              "\n",
              "&gt;&gt;&gt; s = pd.Series([\n",
              "...     np.datetime64(&quot;2000-01-01&quot;),\n",
              "...     np.datetime64(&quot;2010-01-01&quot;),\n",
              "...     np.datetime64(&quot;2010-01-01&quot;)\n",
              "... ])\n",
              "&gt;&gt;&gt; s.describe()\n",
              "count                      3\n",
              "mean     2006-09-01 08:00:00\n",
              "min      2000-01-01 00:00:00\n",
              "25%      2004-12-31 12:00:00\n",
              "50%      2010-01-01 00:00:00\n",
              "75%      2010-01-01 00:00:00\n",
              "max      2010-01-01 00:00:00\n",
              "dtype: object\n",
              "\n",
              "Describing a ``DataFrame``. By default only numeric fields\n",
              "are returned.\n",
              "\n",
              "&gt;&gt;&gt; df = pd.DataFrame({&#x27;categorical&#x27;: pd.Categorical([&#x27;d&#x27;,&#x27;e&#x27;,&#x27;f&#x27;]),\n",
              "...                    &#x27;numeric&#x27;: [1, 2, 3],\n",
              "...                    &#x27;object&#x27;: [&#x27;a&#x27;, &#x27;b&#x27;, &#x27;c&#x27;]\n",
              "...                   })\n",
              "&gt;&gt;&gt; df.describe()\n",
              "       numeric\n",
              "count      3.0\n",
              "mean       2.0\n",
              "std        1.0\n",
              "min        1.0\n",
              "25%        1.5\n",
              "50%        2.0\n",
              "75%        2.5\n",
              "max        3.0\n",
              "\n",
              "Describing all columns of a ``DataFrame`` regardless of data type.\n",
              "\n",
              "&gt;&gt;&gt; df.describe(include=&#x27;all&#x27;)  # doctest: +SKIP\n",
              "       categorical  numeric object\n",
              "count            3      3.0      3\n",
              "unique           3      NaN      3\n",
              "top              f      NaN      a\n",
              "freq             1      NaN      1\n",
              "mean           NaN      2.0    NaN\n",
              "std            NaN      1.0    NaN\n",
              "min            NaN      1.0    NaN\n",
              "25%            NaN      1.5    NaN\n",
              "50%            NaN      2.0    NaN\n",
              "75%            NaN      2.5    NaN\n",
              "max            NaN      3.0    NaN\n",
              "\n",
              "Describing a column from a ``DataFrame`` by accessing it as\n",
              "an attribute.\n",
              "\n",
              "&gt;&gt;&gt; df.numeric.describe()\n",
              "count    3.0\n",
              "mean     2.0\n",
              "std      1.0\n",
              "min      1.0\n",
              "25%      1.5\n",
              "50%      2.0\n",
              "75%      2.5\n",
              "max      3.0\n",
              "Name: numeric, dtype: float64\n",
              "\n",
              "Including only numeric columns in a ``DataFrame`` description.\n",
              "\n",
              "&gt;&gt;&gt; df.describe(include=[np.number])\n",
              "       numeric\n",
              "count      3.0\n",
              "mean       2.0\n",
              "std        1.0\n",
              "min        1.0\n",
              "25%        1.5\n",
              "50%        2.0\n",
              "75%        2.5\n",
              "max        3.0\n",
              "\n",
              "Including only string columns in a ``DataFrame`` description.\n",
              "\n",
              "&gt;&gt;&gt; df.describe(include=[object])  # doctest: +SKIP\n",
              "       object\n",
              "count       3\n",
              "unique      3\n",
              "top         a\n",
              "freq        1\n",
              "\n",
              "Including only categorical columns from a ``DataFrame`` description.\n",
              "\n",
              "&gt;&gt;&gt; df.describe(include=[&#x27;category&#x27;])\n",
              "       categorical\n",
              "count            3\n",
              "unique           3\n",
              "top              d\n",
              "freq             1\n",
              "\n",
              "Excluding numeric columns from a ``DataFrame`` description.\n",
              "\n",
              "&gt;&gt;&gt; df.describe(exclude=[np.number])  # doctest: +SKIP\n",
              "       categorical object\n",
              "count            3      3\n",
              "unique           3      3\n",
              "top              f      a\n",
              "freq             1      1\n",
              "\n",
              "Excluding object columns from a ``DataFrame`` description.\n",
              "\n",
              "&gt;&gt;&gt; df.describe(exclude=[object])  # doctest: +SKIP\n",
              "       categorical  numeric\n",
              "count            3      3.0\n",
              "unique           3      NaN\n",
              "top              f      NaN\n",
              "freq             1      NaN\n",
              "mean           NaN      2.0\n",
              "std            NaN      1.0\n",
              "min            NaN      1.0\n",
              "25%            NaN      1.5\n",
              "50%            NaN      2.0\n",
              "75%            NaN      2.5\n",
              "max            NaN      3.0</pre>\n",
              "      <script>\n",
              "      if (google.colab.kernel.accessAllowed && google.colab.files && google.colab.files.view) {\n",
              "        for (const element of document.querySelectorAll('.filepath')) {\n",
              "          element.style.display = 'block'\n",
              "          element.onclick = (event) => {\n",
              "            event.preventDefault();\n",
              "            event.stopPropagation();\n",
              "            google.colab.files.view(element.textContent, 10577);\n",
              "          };\n",
              "        }\n",
              "      }\n",
              "      for (const element of document.querySelectorAll('.function-repr-contents')) {\n",
              "        element.onclick = (event) => {\n",
              "          event.preventDefault();\n",
              "          event.stopPropagation();\n",
              "          element.classList.toggle('function-repr-contents-collapsed');\n",
              "        };\n",
              "      }\n",
              "      </script>\n",
              "      </div>"
            ]
          },
          "metadata": {},
          "execution_count": 6
        }
      ]
    },
    {
      "cell_type": "code",
      "source": [
        "df.info()"
      ],
      "metadata": {
        "execution": {
          "iopub.status.busy": "2024-05-16T16:49:17.456763Z",
          "iopub.execute_input": "2024-05-16T16:49:17.457169Z",
          "iopub.status.idle": "2024-05-16T16:49:17.481253Z",
          "shell.execute_reply.started": "2024-05-16T16:49:17.457139Z",
          "shell.execute_reply": "2024-05-16T16:49:17.480291Z"
        },
        "trusted": true,
        "id": "ZFHtCGjJVLVE",
        "colab": {
          "base_uri": "https://localhost:8080/"
        },
        "outputId": "a5e094a1-c63b-4123-eb5b-21bb47fe8b32"
      },
      "execution_count": 7,
      "outputs": [
        {
          "output_type": "stream",
          "name": "stdout",
          "text": [
            "<class 'pandas.core.frame.DataFrame'>\n",
            "RangeIndex: 80 entries, 0 to 79\n",
            "Data columns (total 14 columns):\n",
            " #   Column            Non-Null Count  Dtype  \n",
            "---  ------            --------------  -----  \n",
            " 0   S. No.            80 non-null     int64  \n",
            " 1   Date              80 non-null     object \n",
            " 2   Score             80 non-null     int64  \n",
            " 3   Strike Rate       80 non-null     float64\n",
            " 4   Type of Match     80 non-null     object \n",
            " 5   Position          80 non-null     int64  \n",
            " 6   Innings           80 non-null     int64  \n",
            " 7   Dismissed         80 non-null     object \n",
            " 8   Man of the Match  80 non-null     object \n",
            " 9   Captain           80 non-null     object \n",
            " 10  Against           80 non-null     object \n",
            " 11  Venue             80 non-null     object \n",
            " 12  H/A/N             80 non-null     object \n",
            " 13  Result            80 non-null     object \n",
            "dtypes: float64(1), int64(4), object(9)\n",
            "memory usage: 8.9+ KB\n"
          ]
        }
      ]
    },
    {
      "cell_type": "code",
      "source": [
        "df.dtypes"
      ],
      "metadata": {
        "execution": {
          "iopub.status.busy": "2024-05-16T16:49:37.457527Z",
          "iopub.execute_input": "2024-05-16T16:49:37.457968Z",
          "iopub.status.idle": "2024-05-16T16:49:37.467708Z",
          "shell.execute_reply.started": "2024-05-16T16:49:37.457931Z",
          "shell.execute_reply": "2024-05-16T16:49:37.466025Z"
        },
        "trusted": true,
        "id": "AFesAy3fVLVF",
        "colab": {
          "base_uri": "https://localhost:8080/"
        },
        "outputId": "fb6b3442-d24c-47a4-e831-87e3090e2a72"
      },
      "execution_count": 8,
      "outputs": [
        {
          "output_type": "execute_result",
          "data": {
            "text/plain": [
              "S. No.                int64\n",
              "Date                 object\n",
              "Score                 int64\n",
              "Strike Rate         float64\n",
              "Type of Match        object\n",
              "Position              int64\n",
              "Innings               int64\n",
              "Dismissed            object\n",
              "Man of the Match     object\n",
              "Captain              object\n",
              "Against              object\n",
              "Venue                object\n",
              "H/A/N                object\n",
              "Result               object\n",
              "dtype: object"
            ]
          },
          "metadata": {},
          "execution_count": 8
        }
      ]
    },
    {
      "cell_type": "code",
      "source": [
        "df.isnull().sum()"
      ],
      "metadata": {
        "execution": {
          "iopub.status.busy": "2024-05-16T16:49:54.851588Z",
          "iopub.execute_input": "2024-05-16T16:49:54.85204Z",
          "iopub.status.idle": "2024-05-16T16:49:54.861648Z",
          "shell.execute_reply.started": "2024-05-16T16:49:54.852005Z",
          "shell.execute_reply": "2024-05-16T16:49:54.860337Z"
        },
        "trusted": true,
        "id": "GsOsAVaOVLVG",
        "colab": {
          "base_uri": "https://localhost:8080/"
        },
        "outputId": "48bc102d-37ca-42c5-a289-411d971617a5"
      },
      "execution_count": 9,
      "outputs": [
        {
          "output_type": "execute_result",
          "data": {
            "text/plain": [
              "S. No.              0\n",
              "Date                0\n",
              "Score               0\n",
              "Strike Rate         0\n",
              "Type of Match       0\n",
              "Position            0\n",
              "Innings             0\n",
              "Dismissed           0\n",
              "Man of the Match    0\n",
              "Captain             0\n",
              "Against             0\n",
              "Venue               0\n",
              "H/A/N               0\n",
              "Result              0\n",
              "dtype: int64"
            ]
          },
          "metadata": {},
          "execution_count": 9
        }
      ]
    },
    {
      "cell_type": "code",
      "source": [
        "df['Score'].max()"
      ],
      "metadata": {
        "execution": {
          "iopub.status.busy": "2024-05-16T16:50:11.648022Z",
          "iopub.execute_input": "2024-05-16T16:50:11.649307Z",
          "iopub.status.idle": "2024-05-16T16:50:11.656518Z",
          "shell.execute_reply.started": "2024-05-16T16:50:11.649265Z",
          "shell.execute_reply": "2024-05-16T16:50:11.655249Z"
        },
        "trusted": true,
        "id": "b-sRlCeHVLVH",
        "colab": {
          "base_uri": "https://localhost:8080/"
        },
        "outputId": "dec81494-bd0f-43c1-bdaa-109c1fa3a894"
      },
      "execution_count": 10,
      "outputs": [
        {
          "output_type": "execute_result",
          "data": {
            "text/plain": [
              "254"
            ]
          },
          "metadata": {},
          "execution_count": 10
        }
      ]
    },
    {
      "cell_type": "code",
      "source": [
        "df['Type of Match'].value_counts()"
      ],
      "metadata": {
        "execution": {
          "iopub.status.busy": "2024-05-16T16:50:23.672182Z",
          "iopub.execute_input": "2024-05-16T16:50:23.672606Z",
          "iopub.status.idle": "2024-05-16T16:50:23.687708Z",
          "shell.execute_reply.started": "2024-05-16T16:50:23.672573Z",
          "shell.execute_reply": "2024-05-16T16:50:23.686467Z"
        },
        "trusted": true,
        "id": "DOufbKsVVLVI",
        "colab": {
          "base_uri": "https://localhost:8080/"
        },
        "outputId": "d6017176-88db-453d-ff01-805c043776f4"
      },
      "execution_count": 11,
      "outputs": [
        {
          "output_type": "execute_result",
          "data": {
            "text/plain": [
              "Type of Match\n",
              "ODI     50\n",
              "Test    29\n",
              "T20      1\n",
              "Name: count, dtype: int64"
            ]
          },
          "metadata": {},
          "execution_count": 11
        }
      ]
    },
    {
      "cell_type": "code",
      "source": [
        "df['Against'].value_counts()"
      ],
      "metadata": {
        "execution": {
          "iopub.status.busy": "2024-05-16T16:50:43.605499Z",
          "iopub.execute_input": "2024-05-16T16:50:43.605895Z",
          "iopub.status.idle": "2024-05-16T16:50:43.616147Z",
          "shell.execute_reply.started": "2024-05-16T16:50:43.605866Z",
          "shell.execute_reply": "2024-05-16T16:50:43.614919Z"
        },
        "trusted": true,
        "id": "oIRXdiPJVLVJ",
        "colab": {
          "base_uri": "https://localhost:8080/"
        },
        "outputId": "c7d2a965-d2cc-403c-88c6-1dcebc51f08a"
      },
      "execution_count": 12,
      "outputs": [
        {
          "output_type": "execute_result",
          "data": {
            "text/plain": [
              "Against\n",
              "Australia       16\n",
              "Sri Lanka       15\n",
              "West Indies     12\n",
              "New Zealand      9\n",
              "England          8\n",
              "South Africa     8\n",
              "Bangladesh       7\n",
              "Pakistan         3\n",
              "Zimbabwe         1\n",
              "Afghanistan      1\n",
              "Name: count, dtype: int64"
            ]
          },
          "metadata": {},
          "execution_count": 12
        }
      ]
    },
    {
      "cell_type": "code",
      "source": [
        "df['Position'].value_counts()"
      ],
      "metadata": {
        "execution": {
          "iopub.status.busy": "2024-05-16T16:50:57.137905Z",
          "iopub.execute_input": "2024-05-16T16:50:57.138339Z",
          "iopub.status.idle": "2024-05-16T16:50:57.148968Z",
          "shell.execute_reply.started": "2024-05-16T16:50:57.138306Z",
          "shell.execute_reply": "2024-05-16T16:50:57.147787Z"
        },
        "trusted": true,
        "id": "M4iaunpvVLVK",
        "colab": {
          "base_uri": "https://localhost:8080/"
        },
        "outputId": "82978f7c-0bbd-4165-f738-2d756b3f9ff1"
      },
      "execution_count": 13,
      "outputs": [
        {
          "output_type": "execute_result",
          "data": {
            "text/plain": [
              "Position\n",
              "3    43\n",
              "4    32\n",
              "5     3\n",
              "6     1\n",
              "2     1\n",
              "Name: count, dtype: int64"
            ]
          },
          "metadata": {},
          "execution_count": 13
        }
      ]
    },
    {
      "cell_type": "code",
      "source": [
        "df['Innings'].value_counts()"
      ],
      "metadata": {
        "execution": {
          "iopub.status.busy": "2024-05-16T16:51:12.353219Z",
          "iopub.execute_input": "2024-05-16T16:51:12.353635Z",
          "iopub.status.idle": "2024-05-16T16:51:12.362499Z",
          "shell.execute_reply.started": "2024-05-16T16:51:12.353602Z",
          "shell.execute_reply": "2024-05-16T16:51:12.361303Z"
        },
        "trusted": true,
        "id": "LY29RNMhVLVK",
        "colab": {
          "base_uri": "https://localhost:8080/"
        },
        "outputId": "16bcf12d-7632-49f4-d83d-f0d22319ee0c"
      },
      "execution_count": 14,
      "outputs": [
        {
          "output_type": "execute_result",
          "data": {
            "text/plain": [
              "Innings\n",
              "2    42\n",
              "1    33\n",
              "3     3\n",
              "4     2\n",
              "Name: count, dtype: int64"
            ]
          },
          "metadata": {},
          "execution_count": 14
        }
      ]
    },
    {
      "cell_type": "code",
      "source": [
        "df['Venue'].value_counts()"
      ],
      "metadata": {
        "execution": {
          "iopub.status.busy": "2024-05-16T16:51:29.444227Z",
          "iopub.execute_input": "2024-05-16T16:51:29.444632Z",
          "iopub.status.idle": "2024-05-16T16:51:29.455327Z",
          "shell.execute_reply.started": "2024-05-16T16:51:29.444599Z",
          "shell.execute_reply": "2024-05-16T16:51:29.453967Z"
        },
        "trusted": true,
        "id": "FDc5Eur1VLVK",
        "colab": {
          "base_uri": "https://localhost:8080/"
        },
        "outputId": "12d5064a-f042-4107-b819-d591e062949e"
      },
      "execution_count": 15,
      "outputs": [
        {
          "output_type": "execute_result",
          "data": {
            "text/plain": [
              "Venue\n",
              "Adelaide Oval, Adelaide                                 5\n",
              "Eden Gardens, Kolkata                                   4\n",
              "R. Premadasa Stadium, Colombo                           4\n",
              "Sher-e-Bangla Stadium, Dhaka                            4\n",
              "Maharashtra Cricket Association Stadium, Pune           4\n",
              "Queen's Park Oval, Port of Spain                        4\n",
              "Vidarbha Cricket Association Stadium, Nagpur            3\n",
              "Wankhede Stadium, Mumbai                                3\n",
              "SuperSport Park, Centurion                              2\n",
              "JSCA Stadium, Ranchi                                    2\n",
              "ACA Stadium, Guwahati                                   2\n",
              "Galle International Stadium, Galle                      2\n",
              "APCA-VDCA Stadium, Visakhapatnam                        2\n",
              "M. A. Chidambaram Stadium, Chennai                      2\n",
              "Feroz Shah Kotla Ground, Delhi                          2\n",
              "Melbourne Cricket Ground, Melbourne                     2\n",
              "Rajiv Gandhi Stadium, Hyderabad                         1\n",
              "Edgbaston, Birmingham                                   1\n",
              "Trent Bridge, Nottingham                                1\n",
              "Saurashtra Cricket Association Stadium, Rajkot          1\n",
              "ACA-VDCA Cricket Stadium, Visakhapatnam                 1\n",
              "Holkar Stadium, Indore                                  1\n",
              "Sir Vivian Richards Stadium, Antigua                    1\n",
              "Perth Stadium, Perth                                    1\n",
              "Sydney Cricket Ground, Sydney                           1\n",
              "Basin Reserve, Wellington                               1\n",
              "Wanderers Stadium, Johannesburg                         1\n",
              "M. Chinnaswamy Stadium, Bangalore                       1\n",
              "Greenfield International Stadium, Thiruvananthapuram    1\n",
              "Narendra Modi Stadium, Ahmedabad                        1\n",
              "Zohur Ahmed Chowdhury Stadium, Chittagong               1\n",
              "MRIC Stadium, Hambantota                                1\n",
              "ACA-VDCA Stadium, Visakhapatnam                         1\n",
              "Manuka Oval, Canberra                                   1\n",
              "Harare Sports Club, Harare                              1\n",
              "Sawai Mansingh Stadium, Jaipur                          1\n",
              "VCA Stadium, Nagpur                                     1\n",
              "McLean Park, Napier                                     1\n",
              "Khan Shaheb Osman Ali Stadium, Fatullah                 1\n",
              "HPCA Stadium, Dharamshala                               1\n",
              "IS Bindra Stadium, Mohali                               1\n",
              "Bellerive Oval, Hobart                                  1\n",
              "Sophia Gardens, Cardiff                                 1\n",
              "Sabina Park, Kingston                                   1\n",
              "Nehru Stadium, Guwahati                                 1\n",
              "Green Park Stadium, Kanpur                              1\n",
              "Kingsmead Cricket Ground, Durban                        1\n",
              "Newlands Cricket Ground, Cape Town                      1\n",
              "Dubai International Cricket Stadium, Dubai              1\n",
              "Name: count, dtype: int64"
            ]
          },
          "metadata": {},
          "execution_count": 15
        }
      ]
    },
    {
      "cell_type": "code",
      "source": [
        "df['Result'].value_counts()"
      ],
      "metadata": {
        "execution": {
          "iopub.status.busy": "2024-05-16T16:51:47.355689Z",
          "iopub.execute_input": "2024-05-16T16:51:47.356085Z",
          "iopub.status.idle": "2024-05-16T16:51:47.365107Z",
          "shell.execute_reply.started": "2024-05-16T16:51:47.356053Z",
          "shell.execute_reply": "2024-05-16T16:51:47.363988Z"
        },
        "trusted": true,
        "id": "UtN89g9-VLVL",
        "colab": {
          "base_uri": "https://localhost:8080/"
        },
        "outputId": "ce84c854-1d4b-4ac7-b435-1001d41053c9"
      },
      "execution_count": 16,
      "outputs": [
        {
          "output_type": "execute_result",
          "data": {
            "text/plain": [
              "Result\n",
              "Won      56\n",
              "Lost     14\n",
              "Drawn     9\n",
              "Tied      1\n",
              "Name: count, dtype: int64"
            ]
          },
          "metadata": {},
          "execution_count": 16
        }
      ]
    },
    {
      "cell_type": "code",
      "source": [
        "df['Dismissed'].value_counts()"
      ],
      "metadata": {
        "execution": {
          "iopub.status.busy": "2024-05-16T16:52:00.131446Z",
          "iopub.execute_input": "2024-05-16T16:52:00.131877Z",
          "iopub.status.idle": "2024-05-16T16:52:00.141325Z",
          "shell.execute_reply.started": "2024-05-16T16:52:00.131842Z",
          "shell.execute_reply": "2024-05-16T16:52:00.140179Z"
        },
        "trusted": true,
        "id": "Usz6hK3PVLVM",
        "colab": {
          "base_uri": "https://localhost:8080/"
        },
        "outputId": "2da62fa1-4af9-40a5-8fab-ec2698992d47"
      },
      "execution_count": 17,
      "outputs": [
        {
          "output_type": "execute_result",
          "data": {
            "text/plain": [
              "Dismissed\n",
              "Yes    56\n",
              "No     24\n",
              "Name: count, dtype: int64"
            ]
          },
          "metadata": {},
          "execution_count": 17
        }
      ]
    },
    {
      "cell_type": "code",
      "source": [
        "df['Man of the Match'].value_counts()"
      ],
      "metadata": {
        "execution": {
          "iopub.status.busy": "2024-05-16T16:52:13.71947Z",
          "iopub.execute_input": "2024-05-16T16:52:13.719849Z",
          "iopub.status.idle": "2024-05-16T16:52:13.729171Z",
          "shell.execute_reply.started": "2024-05-16T16:52:13.719822Z",
          "shell.execute_reply": "2024-05-16T16:52:13.727975Z"
        },
        "trusted": true,
        "id": "_D3qZVSRVLVM",
        "colab": {
          "base_uri": "https://localhost:8080/"
        },
        "outputId": "5ef92497-3c54-407b-c47e-5d67368d96c6"
      },
      "execution_count": 18,
      "outputs": [
        {
          "output_type": "execute_result",
          "data": {
            "text/plain": [
              "Man of the Match\n",
              "Yes    43\n",
              "No     37\n",
              "Name: count, dtype: int64"
            ]
          },
          "metadata": {},
          "execution_count": 18
        }
      ]
    },
    {
      "cell_type": "code",
      "source": [
        "df['Captain'].value_counts()"
      ],
      "metadata": {
        "execution": {
          "iopub.status.busy": "2024-05-16T16:52:30.188997Z",
          "iopub.execute_input": "2024-05-16T16:52:30.189488Z",
          "iopub.status.idle": "2024-05-16T16:52:30.199031Z",
          "shell.execute_reply.started": "2024-05-16T16:52:30.189454Z",
          "shell.execute_reply": "2024-05-16T16:52:30.197868Z"
        },
        "trusted": true,
        "id": "AvrQvEk4VLVN",
        "colab": {
          "base_uri": "https://localhost:8080/"
        },
        "outputId": "cbf919c7-8379-416f-b523-5502aab3f4a6"
      },
      "execution_count": 19,
      "outputs": [
        {
          "output_type": "execute_result",
          "data": {
            "text/plain": [
              "Captain\n",
              "Yes    41\n",
              "No     39\n",
              "Name: count, dtype: int64"
            ]
          },
          "metadata": {},
          "execution_count": 19
        }
      ]
    },
    {
      "cell_type": "code",
      "source": [
        "df['H/A/N'].value_counts()"
      ],
      "metadata": {
        "execution": {
          "iopub.status.busy": "2024-05-16T16:52:48.740122Z",
          "iopub.execute_input": "2024-05-16T16:52:48.740552Z",
          "iopub.status.idle": "2024-05-16T16:52:48.750712Z",
          "shell.execute_reply.started": "2024-05-16T16:52:48.740514Z",
          "shell.execute_reply": "2024-05-16T16:52:48.749514Z"
        },
        "trusted": true,
        "id": "jSk_S4d4VLVN",
        "colab": {
          "base_uri": "https://localhost:8080/"
        },
        "outputId": "fd673e2e-d5b4-4bc4-d430-2fd12dbd094b"
      },
      "execution_count": 20,
      "outputs": [
        {
          "output_type": "execute_result",
          "data": {
            "text/plain": [
              "H/A/N\n",
              "Home       38\n",
              "Away       36\n",
              "Neutral     6\n",
              "Name: count, dtype: int64"
            ]
          },
          "metadata": {},
          "execution_count": 20
        }
      ]
    },
    {
      "cell_type": "code",
      "source": [
        "sns.countplot(data=df,x=\"Type of Match\",order=df[\"Type of Match\"].value_counts().index)\n",
        "plt.xticks(rotation=90);"
      ],
      "metadata": {
        "execution": {
          "iopub.status.busy": "2024-05-16T16:53:11.431227Z",
          "iopub.execute_input": "2024-05-16T16:53:11.431625Z",
          "iopub.status.idle": "2024-05-16T16:53:11.712014Z",
          "shell.execute_reply.started": "2024-05-16T16:53:11.431596Z",
          "shell.execute_reply": "2024-05-16T16:53:11.710541Z"
        },
        "trusted": true,
        "id": "mtDKmWiZVLVN",
        "colab": {
          "base_uri": "https://localhost:8080/",
          "height": 483
        },
        "outputId": "3ede2a38-c42e-409a-ee02-ac1cf569a626"
      },
      "execution_count": 22,
      "outputs": [
        {
          "output_type": "display_data",
          "data": {
            "text/plain": [
              "<Figure size 640x480 with 1 Axes>"
            ],
            "image/png": "[encoded data removed]"
          },
          "metadata": {}
        }
      ]
    },
    {
      "cell_type": "code",
      "source": [
        "sns.countplot(data=df,x=\"Against\",order=df[\"Against\"].value_counts().index);\n",
        "plt.xticks(rotation=90);"
      ],
      "metadata": {
        "execution": {
          "iopub.status.busy": "2024-05-16T16:53:27.473559Z",
          "iopub.execute_input": "2024-05-16T16:53:27.474062Z",
          "iopub.status.idle": "2024-05-16T16:53:27.83551Z",
          "shell.execute_reply.started": "2024-05-16T16:53:27.474021Z",
          "shell.execute_reply": "2024-05-16T16:53:27.834322Z"
        },
        "trusted": true,
        "id": "d5Q946XIVLVO",
        "colab": {
          "base_uri": "https://localhost:8080/",
          "height": 547
        },
        "outputId": "77182ff5-3ccd-4807-838c-b7fee73c3530"
      },
      "execution_count": 25,
      "outputs": [
        {
          "output_type": "display_data",
          "data": {
            "text/plain": [
              "<Figure size 640x480 with 1 Axes>"
            ],
            "image/png": "[encoded data removed]"
          },
          "metadata": {}
        }
      ]
    },
    {
      "cell_type": "code",
      "source": [
        "sns.countplot(data=df,x=\"Position\",order=df[\"Position\"].value_counts().index)\n",
        "plt.xticks(rotation=90);"
      ],
      "metadata": {
        "execution": {
          "iopub.status.busy": "2024-05-16T16:53:45.828128Z",
          "iopub.execute_input": "2024-05-16T16:53:45.828505Z",
          "iopub.status.idle": "2024-05-16T16:53:46.090898Z",
          "shell.execute_reply.started": "2024-05-16T16:53:45.828477Z",
          "shell.execute_reply": "2024-05-16T16:53:46.089694Z"
        },
        "trusted": true,
        "id": "wMVu9ltfVLVP",
        "colab": {
          "base_uri": "https://localhost:8080/",
          "height": 464
        },
        "outputId": "846082da-6b91-4ac0-b53c-f1249c04ce03"
      },
      "execution_count": 27,
      "outputs": [
        {
          "output_type": "display_data",
          "data": {
            "text/plain": [
              "<Figure size 640x480 with 1 Axes>"
            ],
            "image/png": "[encoded data removed]"
          },
          "metadata": {}
        }
      ]
    },
    {
      "cell_type": "code",
      "source": [
        "sns.countplot(data=df,x=\"Innings\",order=df[\"Innings\"].value_counts().index)\n",
        "plt.xticks(rotation=90);"
      ],
      "metadata": {
        "execution": {
          "iopub.status.busy": "2024-05-16T16:54:05.170255Z",
          "iopub.execute_input": "2024-05-16T16:54:05.170673Z",
          "iopub.status.idle": "2024-05-16T16:54:05.438736Z",
          "shell.execute_reply.started": "2024-05-16T16:54:05.170641Z",
          "shell.execute_reply": "2024-05-16T16:54:05.437344Z"
        },
        "trusted": true,
        "id": "61AmEvAPVLVP",
        "colab": {
          "base_uri": "https://localhost:8080/",
          "height": 464
        },
        "outputId": "0b70fc13-fe29-4a25-95a0-f969c35304f8"
      },
      "execution_count": 28,
      "outputs": [
        {
          "output_type": "display_data",
          "data": {
            "text/plain": [
              "<Figure size 640x480 with 1 Axes>"
            ],
            "image/png": "[encoded data removed]"
          },
          "metadata": {}
        }
      ]
    },
    {
      "cell_type": "code",
      "source": [
        "sns.countplot(data=df,x=\"H/A/N\",order=df[\"H/A/N\"].value_counts().index)\n",
        "plt.xticks(rotation=90)"
      ],
      "metadata": {
        "execution": {
          "iopub.status.busy": "2024-05-16T16:54:27.047763Z",
          "iopub.execute_input": "2024-05-16T16:54:27.048217Z",
          "iopub.status.idle": "2024-05-16T16:54:27.304558Z",
          "shell.execute_reply.started": "2024-05-16T16:54:27.048184Z",
          "shell.execute_reply": "2024-05-16T16:54:27.303622Z"
        },
        "trusted": true,
        "id": "IuHVhyBrVLVQ",
        "colab": {
          "base_uri": "https://localhost:8080/",
          "height": 524
        },
        "outputId": "f1665e50-cb25-41d6-ff9c-1660dfe6baed"
      },
      "execution_count": 29,
      "outputs": [
        {
          "output_type": "execute_result",
          "data": {
            "text/plain": [
              "([0, 1, 2], [Text(0, 0, 'Home'), Text(1, 0, 'Away'), Text(2, 0, 'Neutral')])"
            ]
          },
          "metadata": {},
          "execution_count": 29
        },
        {
          "output_type": "display_data",
          "data": {
            "text/plain": [
              "<Figure size 640x480 with 1 Axes>"
            ],
            "image/png": "[encoded data removed]"
          },
          "metadata": {}
        }
      ]
    },
    {
      "cell_type": "code",
      "source": [
        "sns.countplot(data=df,x=\"Dismissed\",order=df[\"Dismissed\"].value_counts().index)\n",
        "plt.xticks(rotation=90);"
      ],
      "metadata": {
        "execution": {
          "iopub.status.busy": "2024-05-16T16:54:45.03608Z",
          "iopub.execute_input": "2024-05-16T16:54:45.036501Z",
          "iopub.status.idle": "2024-05-16T16:54:45.263308Z",
          "shell.execute_reply.started": "2024-05-16T16:54:45.036453Z",
          "shell.execute_reply": "2024-05-16T16:54:45.262141Z"
        },
        "trusted": true,
        "id": "L1Zptha7VLVQ",
        "colab": {
          "base_uri": "https://localhost:8080/",
          "height": 478
        },
        "outputId": "85b44c22-815e-4dba-a045-e732620cbc8b"
      },
      "execution_count": 31,
      "outputs": [
        {
          "output_type": "display_data",
          "data": {
            "text/plain": [
              "<Figure size 640x480 with 1 Axes>"
            ],
            "image/png": "[encoded data removed]"
          },
          "metadata": {}
        }
      ]
    },
    {
      "cell_type": "code",
      "source": [
        "sns.countplot(data=df,x=\"Man of the Match\",order=df[\"Man of the Match\"].value_counts().index)\n",
        "plt.xticks(rotation=90);"
      ],
      "metadata": {
        "execution": {
          "iopub.status.busy": "2024-05-16T16:55:01.409223Z",
          "iopub.execute_input": "2024-05-16T16:55:01.409616Z",
          "iopub.status.idle": "2024-05-16T16:55:01.942441Z",
          "shell.execute_reply.started": "2024-05-16T16:55:01.409588Z",
          "shell.execute_reply": "2024-05-16T16:55:01.941262Z"
        },
        "trusted": true,
        "id": "J1HBp99WVLVR",
        "colab": {
          "base_uri": "https://localhost:8080/",
          "height": 478
        },
        "outputId": "df56c980-abd7-4c6d-e1b3-7b75b424d137"
      },
      "execution_count": 32,
      "outputs": [
        {
          "output_type": "display_data",
          "data": {
            "text/plain": [
              "<Figure size 640x480 with 1 Axes>"
            ],
            "image/png": "[encoded data removed]"
          },
          "metadata": {}
        }
      ]
    },
    {
      "cell_type": "code",
      "source": [
        "sns.countplot(data=df,x=\"Captain\",order=df[\"Captain\"].value_counts().index)\n",
        "plt.xticks(rotation=90);"
      ],
      "metadata": {
        "execution": {
          "iopub.status.busy": "2024-05-16T16:55:18.232627Z",
          "iopub.execute_input": "2024-05-16T16:55:18.233025Z",
          "iopub.status.idle": "2024-05-16T16:55:18.483649Z",
          "shell.execute_reply.started": "2024-05-16T16:55:18.232993Z",
          "shell.execute_reply": "2024-05-16T16:55:18.482279Z"
        },
        "trusted": true,
        "id": "8B7u9VgHVLVR",
        "colab": {
          "base_uri": "https://localhost:8080/",
          "height": 478
        },
        "outputId": "ed037c67-8b3f-4904-f626-78aeed6fe28e"
      },
      "execution_count": 33,
      "outputs": [
        {
          "output_type": "display_data",
          "data": {
            "text/plain": [
              "<Figure size 640x480 with 1 Axes>"
            ],
            "image/png": "[encoded data removed]"
          },
          "metadata": {}
        }
      ]
    },
    {
      "cell_type": "code",
      "source": [
        "sns.countplot(data=df,x=\"Result\",order=df[\"Result\"].value_counts().index)\n",
        "plt.xticks(rotation=90);"
      ],
      "metadata": {
        "execution": {
          "iopub.status.busy": "2024-05-16T16:55:33.687819Z",
          "iopub.execute_input": "2024-05-16T16:55:33.688265Z",
          "iopub.status.idle": "2024-05-16T16:55:33.883702Z",
          "shell.execute_reply.started": "2024-05-16T16:55:33.68823Z",
          "shell.execute_reply": "2024-05-16T16:55:33.882394Z"
        },
        "trusted": true,
        "id": "EKleOad6VLVR",
        "colab": {
          "base_uri": "https://localhost:8080/",
          "height": 501
        },
        "outputId": "e146f6d6-01bf-4019-b1b7-3738ee7bd07a"
      },
      "execution_count": 35,
      "outputs": [
        {
          "output_type": "display_data",
          "data": {
            "text/plain": [
              "<Figure size 640x480 with 1 Axes>"
            ],
            "image/png": "[encoded data removed]"
          },
          "metadata": {}
        }
      ]
    },
    {
      "cell_type": "code",
      "source": [
        "label = df['Against'].value_counts()\n",
        "plt.figure(figsize = (20,10))\n",
        "explode = [0.1,0,0,0,0,0,0,0,0,0]\n",
        "colors = ['#1f77b4', '#ff7f0e', '#2ca02c', '#d62728', '#9467bd','#8c564b', '#e377c2', '#7f7f7f', '#bcbd22', '#17becf']\n",
        "plt.pie(label, labels=label.index, autopct='%1.2f%%', textprops={'fontsize':9},shadow =True, explode=explode, colors=colors)\n",
        "plt.title('Most Centuries Against Pie chart', fontdict={\"fontsize\":20}, pad=10)\n",
        "plt.legend(bbox_to_anchor=[1,1.01])\n",
        "plt.show();"
      ],
      "metadata": {
        "execution": {
          "iopub.status.busy": "2024-05-16T16:57:10.778327Z",
          "iopub.execute_input": "2024-05-16T16:57:10.779112Z",
          "iopub.status.idle": "2024-05-16T16:57:11.247688Z",
          "shell.execute_reply.started": "2024-05-16T16:57:10.779062Z",
          "shell.execute_reply": "2024-05-16T16:57:11.246548Z"
        },
        "trusted": true,
        "id": "D3I7szjsVLVR",
        "colab": {
          "base_uri": "https://localhost:8080/",
          "height": 862
        },
        "outputId": "4b8de265-f384-4a31-b00b-673d30087fef"
      },
      "execution_count": 36,
      "outputs": [
        {
          "output_type": "display_data",
          "data": {
            "text/plain": [
              "<Figure size 2000x1000 with 1 Axes>"
            ],
            "image/png": "[encoded data removed]"
          },
          "metadata": {}
        }
      ]
    }
  ]
}